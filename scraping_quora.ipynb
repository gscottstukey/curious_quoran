{
 "metadata": {
  "name": "",
  "signature": "sha256:110c9d5e8db129967aef6759480b94ef69ca315aee0e6af899a06aeef7993c57"
 },
 "nbformat": 3,
 "nbformat_minor": 0,
 "worksheets": [
  {
   "cells": [
    {
     "cell_type": "code",
     "collapsed": false,
     "input": [
      "user_email = raw_input(\"Please enter the email address associated with your Quora account.  \")\n",
      "user_password = raw_input('What is your password? I\\'m trustworthy, don\\'t worry.  ')\n",
      "\n",
      "# Prompt the user for username and password."
     ],
     "language": "python",
     "metadata": {},
     "outputs": [
      {
       "name": "stdout",
       "output_type": "stream",
       "stream": "stdout",
       "text": [
        "Please enter the email address associated with your Quora account.  asna.ansari@gmail.com\n"
       ]
      },
      {
       "name": "stdout",
       "output_type": "stream",
       "stream": "stdout",
       "text": [
        "What is your password? I'm trustworthy, don't worry.  asna1005\n"
       ]
      }
     ],
     "prompt_number": 1
    },
    {
     "cell_type": "code",
     "collapsed": false,
     "input": [
      "from selenium import webdriver\n",
      "from selenium.webdriver.common.keys import Keys\n",
      "import time\n",
      "\n",
      "driver = webdriver.Chrome(executable_path=r\"/Users/Asna/Downloads/chromedriver\")\n",
      "\n",
      "driver.get('http://www.quora.com/')\n",
      "time.sleep(60)\n",
      "\n",
      "form = driver.find_element_by_class_name('regular_login')\n",
      "username = form.find_element_by_name('email')\n",
      "username.send_keys(user_email)\n",
      "time.sleep(60)\n",
      "\n",
      "password = form.find_element_by_name('password')\n",
      "password.send_keys(user_password)\n",
      "\n",
      "password.send_keys(Keys.RETURN)\n",
      "\n",
      "time.sleep(60)\n",
      "\n",
      "driver.close();"
     ],
     "language": "python",
     "metadata": {},
     "outputs": [],
     "prompt_number": 30
    },
    {
     "cell_type": "markdown",
     "metadata": {},
     "source": [
      "\n",
      "## Driving through the Quora login process with the Chrome webdriver works but it is very slow. Now trying PhantomJS to see whether it is any faster.\n"
     ]
    },
    {
     "cell_type": "code",
     "collapsed": false,
     "input": [
      "from selenium import webdriver\n",
      "from selenium.webdriver.common.keys import Keys\n",
      "import time\n",
      "\n",
      "# Try to use the Phantom JS webdriver instead \n",
      "webdriver.PhantomJS(executable_path=\"/Users/Asna/Downloads/phantomjs-1.9.8-macosx/bin/phantomjs\")\n",
      "\n",
      "driver.get('http://www.quora.com/')\n",
      "time.sleep(60)\n",
      "\n",
      "form = driver.find_element_by_class_name('regular_login')\n",
      "username = form.find_element_by_name('email')\n",
      "username.send_keys(user_email)\n",
      "time.sleep(60)\n",
      "\n",
      "password = form.find_element_by_name('password')\n",
      "password.send_keys(user_password)\n",
      "\n",
      "password.send_keys(Keys.RETURN)\n",
      "\n",
      "time.sleep(60)\n",
      "\n",
      "driver.close"
     ],
     "language": "python",
     "metadata": {},
     "outputs": []
    },
    {
     "cell_type": "code",
     "collapsed": false,
     "input": [],
     "language": "python",
     "metadata": {},
     "outputs": []
    }
   ],
   "metadata": {}
  }
 ]
}